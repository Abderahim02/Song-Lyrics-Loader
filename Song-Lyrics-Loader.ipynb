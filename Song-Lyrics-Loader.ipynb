{
 "cells": [
  {
   "cell_type": "code",
   "execution_count": 1,
   "id": "0ea75100-6232-4a72-8c94-83c7b7ef0d6e",
   "metadata": {},
   "outputs": [],
   "source": [
    "import pandas as pd\n",
    "import numpy as np\n",
    "from requests import get\n",
    "from bs4 import BeautifulSoup"
   ]
  },
  {
   "cell_type": "code",
   "execution_count": 12,
   "id": "eddb63fb-894d-4248-98aa-a2a163a264f8",
   "metadata": {},
   "outputs": [
    {
     "data": {
      "text/plain": [
       "'[Part I]   [Intro: Travis Scott, Kacy Hill & Chantel Jeffries ]  (Dean, what\\'s poppin\\'? Hahahahaha. Yo, Travis)    Mhm, ooh-ooh-ooh-ooh-ooh-ooh-ooh-ooh  Mama\\'s mailin\\' out that blow, cravin\\' 9021—     [Verse 1: Travis Scott & Chantel Jeffries ]  She a porn star girl, ah, from the valley    (Honestly, God bless)    Who left her hometown world all for that alleyOoh, created Lake Tahoe all from her panties    (I hope it was wet like my jumper, though)    Ooh, used to take the long way homeLong way home, all for that candy    (Hahahahaha)   , mhm     [Chorus: Kacy Hill]  Baby\\'s hooked on feeling low-owDo, do, doDo, do     [Verse 2: Travis Scott]  Jacques turned La Flame, now he rollin\\' on an Addy    Fifty on a chain, \\'nother fifty on a Caddy, oh    He might pop him a pill, pop him a seal, pop anyonePop anything, pop anything to find that alleyMhm, yeah, to find that alley, mhm    [Chorus: Kacy Hill]  Baby\\'s hooked on feeling low-owDo, do, doDo, do     [Segue: Travis Scott, Kacy Hill & Chantel Jeffries ]  In the 90210, 90210, lookin\\' for that alleyIn the 90210, 90210, lookin\\' for that alley, oohIt\\'s the superstar girl, superstar girl, roamin\\' in that alley    (Baby\\'s hooked on feeling low-ow)    Ooh, in the 90210, 90210, somewhere in that alley    ( Do, do )  Ooh, ahh  ( I gotta tell ya )   [Part II]     [Intro: Travis Scott]  (Ooh-ooh-ooh-ooh)  (Ooh-ooh-ooh-ooh)  (Ooh-ooh-ooh-ooh)  Ooh-ooh  (All, all, all thang, thang)(All, all, all thang, thang)    Ooh-ooh-ooh-ooh-ooh  (All, all, all thang, thang)(All, all, all thang, thang)    Yeah  [Verse 3: Travis Scott]    My granny called, she said, \"Travvy, you work too hardI\\'m worried you forget about me\"    (All, all, all)    I\\'m fallin\\' in and out of cloudsDon\\'t worry, I\\'ma get it, Granny, uh    What happened? Now my daddy happyMama called me up, that money comin\\' and she love me    (All, all, all thang, thang)    I done made it now, I done found life\\'s meanin\\' now    (All, all, all thang, thang)    All them days her heart\\'d break, her heart not in pieces now    Friends turnin\\' into fraud niggasPracticin\\' half the passion, you niggas packaged different    (All, all, all thang, thang)    All you niggas, you niggas want the swag, you can\\'t have it    (All, all, all thang, thang)    I\\'ma sell it, your niggas salary, we \\'bout to cap, bitch    Youngest nigga out of Houston at the GrammysSmilin\\' at \\'em laughin\\' at me    I passed the rock to Ye, he pump faked, then passed it back, bitch    (All, all, all thang, thang)    All of this off of rappin\\', should\\'ve wrote this in Latin, yeah-yeah    (All, all, all thang, thang)    Mmm, I know, I know, I know, I know, I know  I know, I know, I know, I know, I know  Cuzzo said we in the store, yeah, we \\'bout to drop a fourHe passed the cigarette, I choke, woo    Told my auntie, \"Put them \\'Ports down, them \\'Ports down\"    Now you know you love your own now  Hit the stage, they got their hands up, don\\'t put your nose down    I ain\\'t knockin\\', nigga, I knocked the door down, for sure now    Whole crew, I swear they countin\\' on me  Gold chains, gold rings, I got an island on me    Houses on me, he got them ounces on him    Holy Father, come save these niggas, I\\'m stylin\\' on \\'em    Good Lord, I see my good fortune in all these horses    I\\'m drivin\\' too fast to stop, so all these signs, I ignore them    Just this guy from north of the border, my chips is in order    My mom\\'s biggest supporter so now a nigga support a nigga    [Outro: Travis Scott]  (Ooh-ooh-ooh-ooh-ooh-ooh-ooh)  (Ooh-ooh-ooh-ooh-ooh-ooh-ooh)'"
      ]
     },
     "execution_count": 12,
     "metadata": {},
     "output_type": "execute_result"
    }
   ],
   "source": [
    "def get_lyrics(song, singer):\n",
    "    lyrics_lines = []\n",
    "    url = \"https://genius.com/\" + singer.replace(\" \", \"-\") + \"-\" + song + \"-lyrics\"\n",
    "    html_source = get(url)\n",
    "    html_page = BeautifulSoup(html_source.text, \"html.parser\")\n",
    "    lyrics_container = html_page.find_all(\"div\", class_ = \"Lyrics__Container-sc-1ynbvzw-5\")\n",
    "    #lyrics = []\n",
    "    if lyrics_container:\n",
    "        for content in lyrics_container:\n",
    "            for line in content :\n",
    "                lyrics_lines.append(line.text.strip())\n",
    "        return \" \".join(lyrics_lines)\n",
    "    else:\n",
    "        print(\"Song not found\")\n",
    "        return None\n",
    "song1 = get_lyrics(\"90210\", \"Travis Scott\")\n",
    "song2 = get_lyrics(\"1Train\", \"ASAP ROCKY\")\n",
    "song3 = get_lyrics(\"kora\", \"kira7\")\n",
    "song1"
   ]
  },
  {
   "cell_type": "code",
   "execution_count": null,
   "id": "d690ae3d-ba33-475a-8ce1-2a291e2cf260",
   "metadata": {},
   "outputs": [],
   "source": []
  },
  {
   "cell_type": "code",
   "execution_count": null,
   "id": "b91e2cd4-cd3d-4bd4-bf5d-c0a9d43e26a4",
   "metadata": {},
   "outputs": [],
   "source": []
  },
  {
   "cell_type": "code",
   "execution_count": null,
   "id": "316e041c-6168-4989-ae54-7d6e79a63aa7",
   "metadata": {},
   "outputs": [],
   "source": []
  },
  {
   "cell_type": "code",
   "execution_count": null,
   "id": "385d09b9-3889-4bfd-9693-9f8fcc3682ae",
   "metadata": {},
   "outputs": [],
   "source": []
  },
  {
   "cell_type": "code",
   "execution_count": null,
   "id": "76a5574c-8df5-4213-99d1-2fac99d515a0",
   "metadata": {},
   "outputs": [],
   "source": []
  }
 ],
 "metadata": {
  "kernelspec": {
   "display_name": "Python 3 (ipykernel)",
   "language": "python",
   "name": "python3"
  },
  "language_info": {
   "codemirror_mode": {
    "name": "ipython",
    "version": 3
   },
   "file_extension": ".py",
   "mimetype": "text/x-python",
   "name": "python",
   "nbconvert_exporter": "python",
   "pygments_lexer": "ipython3",
   "version": "3.11.4"
  }
 },
 "nbformat": 4,
 "nbformat_minor": 5
}
